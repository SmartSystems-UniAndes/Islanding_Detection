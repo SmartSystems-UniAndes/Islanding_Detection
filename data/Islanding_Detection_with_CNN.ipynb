{
 "cells": [
  {
   "cell_type": "markdown",
   "metadata": {},
   "source": [
    "# Islanding detection based on CNN\n",
    "In this notebook, convolutional neural networks are used in order to detect islanding events extracted from a Matlab/Simulink simulation. The dataset was gathered using a 100kW grid-connected photovoltaic system based on https://www.mathworks.com/help/physmod/sps/ug/detailed-model-of-a-100-kw-grid-connected-pv-array.html. The diagram of the model can be seen in the next image:\n",
    "\n",
    "![Title](img/simulink_model_pic.png)\n",
    "\n",
    "\n",
    "The dataset was constructed by changing the active power of a Load connected at the point of common coupling from values between 90kW and 110kW. First, the voltage at each phase in the point of common coupling was measured and concatenated in a single array. Then, this time-series data was  converted into images using the wavelet tranform with a Morlet wavelet. This images were then rescaled to an RGB image of 224x224 pixels,  generating the dataset used for this project. Each event in the dataset was generated at time 0.2s in the simulation. The voltage used was measured between seconds 0.2s and 0.35s. The sample rate for the data generated was 2e-05s. The scenarios included in the dataset can be seen in the following table:\n",
    "\n",
    "| - |Grid-connected C_ON|Grid-connected C_OFF|Sudden swithcing OFF C|Sudden switching ON C| Islanding event C_ON  | Islanding event C_OFF | LL-fault | LN-fault | Total |\n",
    "|---| --- | --- | --- | --- | --- |--- |--- | --- | --- |\n",
    "| # Events | 100 | 100 | 100 | 100 | 100 |  100 | 100 | 100 | 800 |\n",
    "| Label | 0 | 1 | 2 | 3 | 4 | 5 | 6 | 7 | --- |\n"
   ]
  },
  {
   "cell_type": "code",
   "execution_count": null,
   "metadata": {},
   "outputs": [],
   "source": [
    "import tensorflow as tf\n",
    "import matplotlib.pyplot as plt\n",
    "from tensorflow.keras.preprocessing import image\n",
    "import matplotlib.image as mpimg\n",
    "from sklearn.model_selection import train_test_split\n",
    "from sklearn.metrics import confusion_matrix\n",
    "import seaborn as sns\n",
    "import os"
   ]
  },
  {
   "cell_type": "markdown",
   "metadata": {},
   "source": [
    "In the next cell, several images from the different scenarios in the dataset collected are ploted. As it can be seen, many of the images seem to be the same when they are not."
   ]
  },
  {
   "cell_type": "code",
   "execution_count": null,
   "metadata": {},
   "outputs": [],
   "source": [
    "f, axarr = plt.subplots(4,2, figsize=(20,20))\n",
    "images = os.listdir(\"./img/graphs\")\n",
    "counter = 0\n",
    "for a in range(len(axarr)):\n",
    "    for b in range(len(axarr[a])):\n",
    "        img = image.load_img(\"./img/graphs/\" + images[counter])\n",
    "        axarr[a,b].axis('off')\n",
    "        axarr[a,b].imshow(img)\n",
    "        axarr[a,b].set_title(images[counter][:images[counter].find(\".png\")])\n",
    "        counter += 1"
   ]
  },
  {
   "cell_type": "code",
   "execution_count": null,
   "metadata": {},
   "outputs": [],
   "source": [
    "gpus = tf.config.list_physical_devices('GPU')\n",
    "if gpus:\n",
    "    try:\n",
    "        # Currently, memory growth needs to be the same across GPUs\n",
    "        for gpu in gpus:\n",
    "            tf.config.experimental.set_memory_growth(gpu, True)\n",
    "        logical_gpus = tf.config.experimental.list_logical_devices('GPU')\n",
    "        print(len(gpus), \"Physical GPUs,\", len(logical_gpus), \"Logical GPUs\")\n",
    "    except RuntimeError as e:\n",
    "        print(e)"
   ]
  },
  {
   "cell_type": "code",
   "execution_count": null,
   "metadata": {},
   "outputs": [],
   "source": [
    "def graficarMatrizConfusion(y_true, y_pred):\n",
    "    cm = confusion_matrix(y_true, y_pred)\n",
    "    cm = cm.astype('float') #/ cm.sum(axis=1)[:, np.newaxis]  \n",
    "\n",
    "    plt.figure(figsize=(8,8))\n",
    "\n",
    "    ax = sns.heatmap(cm, annot = True, cbar = False);\n",
    "      \n",
    "    ax.xaxis.tick_top()\n",
    "    ax.xaxis.set_label_position('top')\n",
    "      \n",
    "    plt.xlabel(\"Predicted Class\")\n",
    "    plt.ylabel(\"True Class\")\n",
    "    plt.title(\"Confussion Matrix\")\n",
    "    plt.savefig('img/Confussion_matrix.png')\n",
    "    plt.show()\n"
   ]
  },
  {
   "cell_type": "markdown",
   "metadata": {},
   "source": [
    "The next cell extracts the dataset from the .mat file generated. Each image had a size of (224, 224, 3). The dataset is composed of three columns, the first column corresponds to the value of the load at the moment of generating the the data, the second column corresponds to the image generated from the wavelet transform and the thrid column has the label of the data selected."
   ]
  },
  {
   "cell_type": "code",
   "execution_count": null,
   "metadata": {},
   "outputs": [],
   "source": [
    "from scipy.io import loadmat\n",
    "import numpy as np\n",
    "import h5py\n",
    "filename = \"dataset_IDM.mat\"\n",
    "with h5py.File(filename, 'r') as f:\n",
    "    ref_label = np.array(f['dataset']['label'])\n",
    "    labels = np.array([int(np.array(f[f['dataset']['label'][i][0]]).squeeze()) for i in range(0, len(ref_label))])\n",
    "    images = np.array([np.array(f[f['dataset']['data'][i][0]]).squeeze() for i in range(0, len(ref_label))]).reshape(-1,224,224,3)"
   ]
  },
  {
   "cell_type": "markdown",
   "metadata": {},
   "source": [
    "Next, we plot the data from matlab converted to RGB images (this is how they are saved in the dataset):"
   ]
  },
  {
   "cell_type": "code",
   "execution_count": null,
   "metadata": {},
   "outputs": [],
   "source": [
    "import matplotlib.image as mpimg\n",
    "from PIL import Image\n",
    "f, axarr = plt.subplots(4,2, figsize=(20,20))\n",
    "def labels_names(argument):\n",
    "    switcher = {\n",
    "        0: \"Grid-connected C_ON\",\n",
    "        1: \"Grid connected C_OFF\",\n",
    "        2: \"Sudden switching OFF C\",\n",
    "        3: \"Sudden switching ON C\",\n",
    "        4: \"Islanding event C_ON\",\n",
    "        5: \"Islanding event C_OFF\",\n",
    "        6: \"LL-Fault\",\n",
    "        7: \"LN-Fault\",\n",
    "    }\n",
    "    return switcher.get(argument, \"Invalid month\")\n",
    "index = 99\n",
    "for a in range(len(axarr)):\n",
    "    for b in range(len(axarr[a])):\n",
    "        axarr[a,b].axis('off')\n",
    "        axarr[a,b].imshow(np.clip(images[index], 0, 1)) \n",
    "        axarr[a,b].set_title(labels_names(labels[index]))\n",
    "        index+= 100\n"
   ]
  },
  {
   "cell_type": "markdown",
   "metadata": {},
   "source": [
    "We proceed to separate the dataset between training and testing values in the next cell."
   ]
  },
  {
   "cell_type": "code",
   "execution_count": null,
   "metadata": {},
   "outputs": [],
   "source": [
    "np.random.seed(seed=42)\n",
    "x_train, x_test, y_train, y_test = train_test_split(images, labels, test_size = 0.33, random_state = 42)"
   ]
  },
  {
   "cell_type": "code",
   "execution_count": 11,
   "metadata": {},
   "outputs": [],
   "source": [
    "np.save(\"test_data.npy\", x_test)\n",
    "np.save(\"test_labels.npy\", y_test)"
   ]
  },
  {
   "cell_type": "markdown",
   "metadata": {},
   "source": [
    "### Convolutional Neural Network Model\n",
    "The architecture of the CNN is presented in the next code:"
   ]
  },
  {
   "cell_type": "code",
   "execution_count": 58,
   "metadata": {},
   "outputs": [
    {
     "name": "stdout",
     "output_type": "stream",
     "text": [
      "Model: \"sequential_5\"\n",
      "_________________________________________________________________\n",
      "Layer (type)                 Output Shape              Param #   \n",
      "=================================================================\n",
      "conv2d_15 (Conv2D)           (None, 222, 222, 32)      896       \n",
      "_________________________________________________________________\n",
      "max_pooling2d_15 (MaxPooling (None, 111, 111, 32)      0         \n",
      "_________________________________________________________________\n",
      "conv2d_16 (Conv2D)           (None, 109, 109, 32)      9248      \n",
      "_________________________________________________________________\n",
      "max_pooling2d_16 (MaxPooling (None, 54, 54, 32)        0         \n",
      "_________________________________________________________________\n",
      "conv2d_17 (Conv2D)           (None, 52, 52, 64)        18496     \n",
      "_________________________________________________________________\n",
      "max_pooling2d_17 (MaxPooling (None, 26, 26, 64)        0         \n",
      "_________________________________________________________________\n",
      "flatten_5 (Flatten)          (None, 43264)             0         \n",
      "_________________________________________________________________\n",
      "dense_10 (Dense)             (None, 32)                1384480   \n",
      "_________________________________________________________________\n",
      "dense_11 (Dense)             (None, 8)                 264       \n",
      "=================================================================\n",
      "Total params: 1,413,384\n",
      "Trainable params: 1,413,384\n",
      "Non-trainable params: 0\n",
      "_________________________________________________________________\n"
     ]
    }
   ],
   "source": [
    "tf.random.set_seed(51)\n",
    "model = tf.keras.Sequential([\n",
    "    tf.keras.layers.Conv2D(32, (3,3), input_shape = (224, 224, 3), activation = 'relu'),\n",
    "    tf.keras.layers.MaxPooling2D(2,2),\n",
    "    tf.keras.layers.Conv2D(32, (3,3), activation = 'relu'),\n",
    "    tf.keras.layers.MaxPooling2D(2,2),\n",
    "    tf.keras.layers.Conv2D(64, (3,3), activation = 'relu'),\n",
    "    tf.keras.layers.MaxPooling2D(2,2),\n",
    "    tf.keras.layers.Flatten(),\n",
    "    tf.keras.layers.Dense(32, activation = 'relu'),\n",
    "    tf.keras.layers.Dense(8, activation='softmax')\n",
    "    ])\n",
    "model.summary()\n",
    "model.compile(loss = 'sparse_categorical_crossentropy', optimizer = 'adam', metrics = ['sparse_categorical_accuracy'])"
   ]
  },
  {
   "cell_type": "code",
   "execution_count": 59,
   "metadata": {},
   "outputs": [
    {
     "name": "stdout",
     "output_type": "stream",
     "text": [
      "Epoch 1/85\n",
      " 5/17 [=======>......................] - ETA: 0s - loss: 2.2018 - sparse_categorical_accuracy: 0.1137WARNING:tensorflow:Callback method `on_train_batch_end` is slow compared to the batch time (batch time: 0.0162s vs `on_train_batch_end` time: 0.0204s). Check your callbacks.\n",
      "17/17 [==============================] - 1s 57ms/step - loss: 2.0110 - sparse_categorical_accuracy: 0.2349 - val_loss: 1.4176 - val_sparse_categorical_accuracy: 0.6515\n",
      "Epoch 2/85\n",
      "17/17 [==============================] - 1s 40ms/step - loss: 1.2570 - sparse_categorical_accuracy: 0.5977 - val_loss: 0.7863 - val_sparse_categorical_accuracy: 0.7992\n",
      "Epoch 3/85\n",
      "17/17 [==============================] - 1s 39ms/step - loss: 0.8082 - sparse_categorical_accuracy: 0.6884 - val_loss: 0.8280 - val_sparse_categorical_accuracy: 0.6591\n",
      "Epoch 4/85\n",
      "17/17 [==============================] - 1s 41ms/step - loss: 0.7927 - sparse_categorical_accuracy: 0.6602 - val_loss: 0.6282 - val_sparse_categorical_accuracy: 0.7045\n",
      "Epoch 5/85\n",
      "17/17 [==============================] - 1s 41ms/step - loss: 0.6517 - sparse_categorical_accuracy: 0.6923 - val_loss: 0.4971 - val_sparse_categorical_accuracy: 0.7462\n",
      "Epoch 6/85\n",
      "17/17 [==============================] - 1s 41ms/step - loss: 0.6046 - sparse_categorical_accuracy: 0.7118 - val_loss: 0.4688 - val_sparse_categorical_accuracy: 0.7992\n",
      "Epoch 7/85\n",
      "17/17 [==============================] - 1s 40ms/step - loss: 0.5758 - sparse_categorical_accuracy: 0.6995 - val_loss: 0.5564 - val_sparse_categorical_accuracy: 0.7576\n",
      "Epoch 8/85\n",
      "17/17 [==============================] - 1s 40ms/step - loss: 0.5094 - sparse_categorical_accuracy: 0.7641 - val_loss: 0.4522 - val_sparse_categorical_accuracy: 0.7462\n",
      "Epoch 9/85\n",
      "17/17 [==============================] - 1s 40ms/step - loss: 0.4719 - sparse_categorical_accuracy: 0.7706 - val_loss: 0.4075 - val_sparse_categorical_accuracy: 0.7992\n",
      "Epoch 10/85\n",
      "17/17 [==============================] - 1s 41ms/step - loss: 0.4844 - sparse_categorical_accuracy: 0.7350 - val_loss: 0.4528 - val_sparse_categorical_accuracy: 0.7462\n",
      "Epoch 11/85\n",
      "17/17 [==============================] - 1s 41ms/step - loss: 0.5150 - sparse_categorical_accuracy: 0.7025 - val_loss: 0.4295 - val_sparse_categorical_accuracy: 0.7576\n",
      "Epoch 12/85\n",
      "17/17 [==============================] - 1s 40ms/step - loss: 0.4592 - sparse_categorical_accuracy: 0.7377 - val_loss: 0.4055 - val_sparse_categorical_accuracy: 0.7576\n",
      "Epoch 13/85\n",
      "17/17 [==============================] - 1s 39ms/step - loss: 0.4619 - sparse_categorical_accuracy: 0.7573 - val_loss: 0.4084 - val_sparse_categorical_accuracy: 0.7576\n",
      "Epoch 14/85\n",
      "17/17 [==============================] - 1s 42ms/step - loss: 0.4294 - sparse_categorical_accuracy: 0.7701 - val_loss: 0.4082 - val_sparse_categorical_accuracy: 0.7992\n",
      "Epoch 15/85\n",
      "17/17 [==============================] - 1s 39ms/step - loss: 0.4521 - sparse_categorical_accuracy: 0.7516 - val_loss: 0.4137 - val_sparse_categorical_accuracy: 0.7576\n",
      "Epoch 16/85\n",
      "17/17 [==============================] - 1s 40ms/step - loss: 0.4668 - sparse_categorical_accuracy: 0.7400 - val_loss: 0.5076 - val_sparse_categorical_accuracy: 0.7576\n",
      "Epoch 17/85\n",
      "17/17 [==============================] - 1s 40ms/step - loss: 0.4845 - sparse_categorical_accuracy: 0.7651 - val_loss: 0.4310 - val_sparse_categorical_accuracy: 0.7992\n",
      "Epoch 18/85\n",
      "17/17 [==============================] - 1s 42ms/step - loss: 0.4882 - sparse_categorical_accuracy: 0.7559 - val_loss: 0.4048 - val_sparse_categorical_accuracy: 0.7462\n",
      "Epoch 19/85\n",
      "17/17 [==============================] - 1s 40ms/step - loss: 0.4693 - sparse_categorical_accuracy: 0.7557 - val_loss: 0.4166 - val_sparse_categorical_accuracy: 0.7576\n",
      "Epoch 20/85\n",
      "17/17 [==============================] - 1s 41ms/step - loss: 0.4630 - sparse_categorical_accuracy: 0.7176 - val_loss: 0.3920 - val_sparse_categorical_accuracy: 0.7992\n",
      "Epoch 21/85\n",
      "17/17 [==============================] - 1s 39ms/step - loss: 0.4933 - sparse_categorical_accuracy: 0.7065 - val_loss: 0.4300 - val_sparse_categorical_accuracy: 0.7992\n",
      "Epoch 22/85\n",
      "17/17 [==============================] - 1s 39ms/step - loss: 0.4937 - sparse_categorical_accuracy: 0.7179 - val_loss: 0.3705 - val_sparse_categorical_accuracy: 0.8523\n",
      "Epoch 23/85\n",
      "17/17 [==============================] - 1s 41ms/step - loss: 0.4171 - sparse_categorical_accuracy: 0.8017 - val_loss: 0.3815 - val_sparse_categorical_accuracy: 0.8523\n",
      "Epoch 24/85\n",
      "17/17 [==============================] - 1s 40ms/step - loss: 0.4240 - sparse_categorical_accuracy: 0.8218 - val_loss: 0.3616 - val_sparse_categorical_accuracy: 0.7992\n",
      "Epoch 25/85\n",
      "17/17 [==============================] - 1s 40ms/step - loss: 0.4116 - sparse_categorical_accuracy: 0.7777 - val_loss: 0.3961 - val_sparse_categorical_accuracy: 0.7576\n",
      "Epoch 26/85\n",
      "17/17 [==============================] - 1s 40ms/step - loss: 0.4452 - sparse_categorical_accuracy: 0.7406 - val_loss: 0.3963 - val_sparse_categorical_accuracy: 0.7462\n",
      "Epoch 27/85\n",
      "17/17 [==============================] - 1s 40ms/step - loss: 0.4269 - sparse_categorical_accuracy: 0.7627 - val_loss: 0.3660 - val_sparse_categorical_accuracy: 0.8523\n",
      "Epoch 28/85\n",
      "17/17 [==============================] - 1s 39ms/step - loss: 0.3810 - sparse_categorical_accuracy: 0.8260 - val_loss: 0.3513 - val_sparse_categorical_accuracy: 0.9053\n",
      "Epoch 29/85\n",
      "17/17 [==============================] - 1s 40ms/step - loss: 0.3865 - sparse_categorical_accuracy: 0.7899 - val_loss: 0.3376 - val_sparse_categorical_accuracy: 0.7992\n",
      "Epoch 30/85\n",
      "17/17 [==============================] - 1s 39ms/step - loss: 0.4299 - sparse_categorical_accuracy: 0.7386 - val_loss: 0.3521 - val_sparse_categorical_accuracy: 0.7992\n",
      "Epoch 31/85\n",
      "17/17 [==============================] - 1s 42ms/step - loss: 0.4153 - sparse_categorical_accuracy: 0.7729 - val_loss: 0.4023 - val_sparse_categorical_accuracy: 0.7576\n",
      "Epoch 32/85\n",
      "17/17 [==============================] - 1s 40ms/step - loss: 0.4196 - sparse_categorical_accuracy: 0.7835 - val_loss: 0.3919 - val_sparse_categorical_accuracy: 0.8523\n",
      "Epoch 33/85\n",
      "17/17 [==============================] - 1s 40ms/step - loss: 0.3827 - sparse_categorical_accuracy: 0.8465 - val_loss: 0.3648 - val_sparse_categorical_accuracy: 0.7462\n",
      "Epoch 34/85\n",
      "17/17 [==============================] - 1s 41ms/step - loss: 0.3689 - sparse_categorical_accuracy: 0.8029 - val_loss: 0.3418 - val_sparse_categorical_accuracy: 0.8523\n",
      "Epoch 35/85\n",
      "17/17 [==============================] - 1s 39ms/step - loss: 0.3527 - sparse_categorical_accuracy: 0.8708 - val_loss: 0.4382 - val_sparse_categorical_accuracy: 0.8523\n",
      "Epoch 36/85\n",
      "17/17 [==============================] - 1s 40ms/step - loss: 0.3440 - sparse_categorical_accuracy: 0.8838 - val_loss: 0.3301 - val_sparse_categorical_accuracy: 0.8523\n",
      "Epoch 37/85\n",
      "17/17 [==============================] - 1s 42ms/step - loss: 0.3067 - sparse_categorical_accuracy: 0.8947 - val_loss: 0.2699 - val_sparse_categorical_accuracy: 0.8523\n",
      "Epoch 38/85\n",
      "17/17 [==============================] - 1s 42ms/step - loss: 0.5458 - sparse_categorical_accuracy: 0.7601 - val_loss: 0.4408 - val_sparse_categorical_accuracy: 0.7235\n",
      "Epoch 39/85\n",
      "17/17 [==============================] - 1s 40ms/step - loss: 0.4317 - sparse_categorical_accuracy: 0.7676 - val_loss: 0.3034 - val_sparse_categorical_accuracy: 0.8523\n",
      "Epoch 40/85\n",
      "17/17 [==============================] - 1s 40ms/step - loss: 0.3295 - sparse_categorical_accuracy: 0.8747 - val_loss: 0.2772 - val_sparse_categorical_accuracy: 0.9053\n",
      "Epoch 41/85\n",
      "17/17 [==============================] - 1s 40ms/step - loss: 0.3365 - sparse_categorical_accuracy: 0.8471 - val_loss: 0.2659 - val_sparse_categorical_accuracy: 0.8523\n",
      "Epoch 42/85\n",
      "17/17 [==============================] - 1s 40ms/step - loss: 0.2621 - sparse_categorical_accuracy: 0.8776 - val_loss: 0.2726 - val_sparse_categorical_accuracy: 0.9053\n",
      "Epoch 43/85\n",
      "17/17 [==============================] - 1s 41ms/step - loss: 0.2781 - sparse_categorical_accuracy: 0.8552 - val_loss: 0.2269 - val_sparse_categorical_accuracy: 0.9053\n",
      "Epoch 44/85\n",
      "17/17 [==============================] - 1s 41ms/step - loss: 0.2766 - sparse_categorical_accuracy: 0.8588 - val_loss: 0.2105 - val_sparse_categorical_accuracy: 0.9053\n",
      "Epoch 45/85\n"
     ]
    },
    {
     "name": "stdout",
     "output_type": "stream",
     "text": [
      "17/17 [==============================] - 1s 41ms/step - loss: 0.2605 - sparse_categorical_accuracy: 0.8496 - val_loss: 0.2419 - val_sparse_categorical_accuracy: 0.8523\n",
      "Epoch 46/85\n",
      "17/17 [==============================] - 1s 41ms/step - loss: 0.2257 - sparse_categorical_accuracy: 0.8819 - val_loss: 0.2040 - val_sparse_categorical_accuracy: 0.9053\n",
      "Epoch 47/85\n",
      "17/17 [==============================] - 1s 41ms/step - loss: 0.2437 - sparse_categorical_accuracy: 0.8677 - val_loss: 0.3561 - val_sparse_categorical_accuracy: 0.8523\n",
      "Epoch 48/85\n",
      "17/17 [==============================] - 1s 40ms/step - loss: 0.2928 - sparse_categorical_accuracy: 0.8661 - val_loss: 0.2850 - val_sparse_categorical_accuracy: 0.8523\n",
      "Epoch 49/85\n",
      "17/17 [==============================] - 1s 41ms/step - loss: 0.3230 - sparse_categorical_accuracy: 0.8294 - val_loss: 0.3470 - val_sparse_categorical_accuracy: 0.8523\n",
      "Epoch 50/85\n",
      "17/17 [==============================] - 1s 40ms/step - loss: 0.2637 - sparse_categorical_accuracy: 0.8655 - val_loss: 0.2128 - val_sparse_categorical_accuracy: 0.8523\n",
      "Epoch 51/85\n",
      "17/17 [==============================] - 1s 41ms/step - loss: 0.2331 - sparse_categorical_accuracy: 0.8851 - val_loss: 0.2176 - val_sparse_categorical_accuracy: 0.8523\n",
      "Epoch 52/85\n",
      "17/17 [==============================] - 1s 41ms/step - loss: 0.2208 - sparse_categorical_accuracy: 0.8736 - val_loss: 0.3080 - val_sparse_categorical_accuracy: 0.8523\n",
      "Epoch 53/85\n",
      "17/17 [==============================] - 1s 40ms/step - loss: 0.2157 - sparse_categorical_accuracy: 0.8887 - val_loss: 0.2188 - val_sparse_categorical_accuracy: 0.8523\n",
      "Epoch 54/85\n",
      "17/17 [==============================] - 1s 41ms/step - loss: 0.2109 - sparse_categorical_accuracy: 0.8715 - val_loss: 0.2654 - val_sparse_categorical_accuracy: 0.8523\n",
      "Epoch 55/85\n",
      "17/17 [==============================] - 1s 41ms/step - loss: 0.2219 - sparse_categorical_accuracy: 0.8764 - val_loss: 0.2552 - val_sparse_categorical_accuracy: 0.8523\n",
      "Epoch 56/85\n",
      "17/17 [==============================] - 1s 42ms/step - loss: 0.1846 - sparse_categorical_accuracy: 0.8917 - val_loss: 0.2021 - val_sparse_categorical_accuracy: 0.8523\n",
      "Epoch 57/85\n",
      "17/17 [==============================] - 1s 41ms/step - loss: 0.1767 - sparse_categorical_accuracy: 0.9028 - val_loss: 0.1788 - val_sparse_categorical_accuracy: 0.8523\n",
      "Epoch 58/85\n",
      "17/17 [==============================] - 1s 41ms/step - loss: 0.1651 - sparse_categorical_accuracy: 0.8976 - val_loss: 0.1660 - val_sparse_categorical_accuracy: 0.9053\n",
      "Epoch 59/85\n",
      "17/17 [==============================] - 1s 40ms/step - loss: 0.1764 - sparse_categorical_accuracy: 0.8927 - val_loss: 0.1736 - val_sparse_categorical_accuracy: 0.9053\n",
      "Epoch 60/85\n",
      "17/17 [==============================] - 1s 41ms/step - loss: 0.1898 - sparse_categorical_accuracy: 0.8715 - val_loss: 0.1675 - val_sparse_categorical_accuracy: 0.9053\n",
      "Epoch 61/85\n",
      "17/17 [==============================] - 1s 41ms/step - loss: 0.1789 - sparse_categorical_accuracy: 0.8946 - val_loss: 0.1735 - val_sparse_categorical_accuracy: 0.9053\n",
      "Epoch 62/85\n",
      "17/17 [==============================] - 1s 42ms/step - loss: 0.1926 - sparse_categorical_accuracy: 0.8774 - val_loss: 0.2074 - val_sparse_categorical_accuracy: 0.8523\n",
      "Epoch 63/85\n",
      "17/17 [==============================] - 1s 42ms/step - loss: 0.1810 - sparse_categorical_accuracy: 0.8838 - val_loss: 0.2507 - val_sparse_categorical_accuracy: 0.8523\n",
      "Epoch 64/85\n",
      "17/17 [==============================] - 1s 42ms/step - loss: 0.1654 - sparse_categorical_accuracy: 0.9136 - val_loss: 0.1656 - val_sparse_categorical_accuracy: 1.0000\n",
      "\n",
      " Maximum validation accuracy reached, stopping training\n"
     ]
    },
    {
     "data": {
      "text/plain": [
       "<tensorflow.python.keras.callbacks.History at 0x18417fd9be0>"
      ]
     },
     "execution_count": 59,
     "metadata": {},
     "output_type": "execute_result"
    }
   ],
   "source": [
    "class myCallback(tf.keras.callbacks.Callback):\n",
    "    def on_epoch_end(self, epoch, logs = {}):\n",
    "        if(logs.get('val_sparse_categorical_accuracy') == 1):\n",
    "            print('\\n Maximum validation accuracy reached, stopping training')\n",
    "            self.model.stop_training = True\n",
    "callbacks = myCallback()\n",
    "model.fit(x_train, \n",
    "          y_train,\n",
    "          validation_data = (x_test, y_test),\n",
    "          epochs = 85,\n",
    "          verbose = 1,\n",
    "          callbacks = [callbacks])"
   ]
  },
  {
   "cell_type": "code",
   "execution_count": 64,
   "metadata": {},
   "outputs": [
    {
     "data": {
      "image/png": "[encoded data removed]",
      "text/plain": [
       "<Figure size 576x576 with 1 Axes>"
      ]
     },
     "metadata": {},
     "output_type": "display_data"
    }
   ],
   "source": [
    "graficarMatrizConfusion(y_true = y_train, y_pred = np.argmax(model.predict(x_train),axis=1))"
   ]
  },
  {
   "cell_type": "code",
   "execution_count": 67,
   "metadata": {},
   "outputs": [
    {
     "data": {
      "image/png": "[encoded data removed]",
      "text/plain": [
       "<Figure size 576x576 with 1 Axes>"
      ]
     },
     "metadata": {},
     "output_type": "display_data"
    }
   ],
   "source": [
    "graficarMatrizConfusion(y_true = y_test, y_pred = np.argmax(model.predict(x_test),axis=1))"
   ]
  },
  {
   "cell_type": "code",
   "execution_count": 62,
   "metadata": {},
   "outputs": [],
   "source": [
    "model.save('model/islanding_model.h5')"
   ]
  }
 ],
 "metadata": {
  "kernelspec": {
   "display_name": "Python 3",
   "language": "python",
   "name": "python3"
  },
  "language_info": {
   "codemirror_mode": {
    "name": "ipython",
    "version": 3
   },
   "file_extension": ".py",
   "mimetype": "text/x-python",
   "name": "python",
   "nbconvert_exporter": "python",
   "pygments_lexer": "ipython3",
   "version": "3.8.5"
  }
 },
 "nbformat": 4,
 "nbformat_minor": 5
}
